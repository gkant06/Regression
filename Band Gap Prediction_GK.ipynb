{
 "cells": [
  {
   "cell_type": "code",
   "execution_count": 44,
   "id": "b07de939-2254-4f23-847f-52f04d008024",
   "metadata": {},
   "outputs": [],
   "source": [
    "import pandas as pd\n",
    "import numpy as np\n",
    "import matplotlib.pyplot as plt\n",
    "from sklearn import preprocessing\n",
    "from sklearn.model_selection import train_test_split\n",
    "from sklearn import linear_model\n",
    "from sklearn.metrics import mean_absolute_error,mean_squared_error"
   ]
  },
  {
   "cell_type": "code",
   "execution_count": 13,
   "id": "bb0ec916-f5a5-479f-b5ff-b4c491ee4970",
   "metadata": {},
   "outputs": [],
   "source": [
    "# Importing files\n",
    "\n",
    "X_train_0 = pd.read_csv(r\"C:\\Users\\kantg\\OneDrive\\Desktop\\CMU\\ML for Science\\HW5\\X_train_kaggle.csv\")\n",
    "y_train_0 = pd.read_csv(r\"C:\\Users\\kantg\\OneDrive\\Desktop\\CMU\\ML for Science\\HW5\\y_train_kaggle.csv\")\n",
    "X_test_0 = pd.read_csv(r\"C:\\Users\\kantg\\OneDrive\\Desktop\\CMU\\ML for Science\\HW5\\X_test_kaggle.csv\")"
   ]
  },
  {
   "cell_type": "code",
   "execution_count": 14,
   "id": "451a101c-4bf3-42ed-bb86-d525f0ab5f7d",
   "metadata": {},
   "outputs": [
    {
     "name": "stdout",
     "output_type": "stream",
     "text": [
      "<class 'pandas.core.frame.DataFrame'>\n",
      "RangeIndex: 9640 entries, 0 to 9639\n",
      "Columns: 134 entries, Material to Id\n",
      "dtypes: float64(67), int64(66), object(1)\n",
      "memory usage: 9.9+ MB\n",
      "<class 'pandas.core.frame.DataFrame'>\n",
      "RangeIndex: 4132 entries, 0 to 4131\n",
      "Columns: 134 entries, Material to Id\n",
      "dtypes: float64(67), int64(66), object(1)\n",
      "memory usage: 4.2+ MB\n"
     ]
    }
   ],
   "source": [
    "# Basic information for the training data set\n",
    "\n",
    "X_train_0.info()\n",
    "X_test_0.info()"
   ]
  },
  {
   "cell_type": "code",
   "execution_count": 15,
   "id": "534c498f-c824-47f3-b37e-91dd011bcc95",
   "metadata": {},
   "outputs": [
    {
     "data": {
      "text/html": [
       "<div>\n",
       "<style scoped>\n",
       "    .dataframe tbody tr th:only-of-type {\n",
       "        vertical-align: middle;\n",
       "    }\n",
       "\n",
       "    .dataframe tbody tr th {\n",
       "        vertical-align: top;\n",
       "    }\n",
       "\n",
       "    .dataframe thead th {\n",
       "        text-align: right;\n",
       "    }\n",
       "</style>\n",
       "<table border=\"1\" class=\"dataframe\">\n",
       "  <thead>\n",
       "    <tr style=\"text-align: right;\">\n",
       "      <th></th>\n",
       "      <th>Material</th>\n",
       "      <th>D1</th>\n",
       "      <th>D2</th>\n",
       "      <th>D3</th>\n",
       "      <th>D4</th>\n",
       "      <th>D5</th>\n",
       "      <th>D6</th>\n",
       "      <th>D7</th>\n",
       "      <th>D8</th>\n",
       "      <th>D9</th>\n",
       "      <th>...</th>\n",
       "      <th>D124</th>\n",
       "      <th>D125</th>\n",
       "      <th>D126</th>\n",
       "      <th>D127</th>\n",
       "      <th>D128</th>\n",
       "      <th>D129</th>\n",
       "      <th>D130</th>\n",
       "      <th>D131</th>\n",
       "      <th>D132</th>\n",
       "      <th>Id</th>\n",
       "    </tr>\n",
       "  </thead>\n",
       "  <tbody>\n",
       "    <tr>\n",
       "      <th>0</th>\n",
       "      <td>O4V1Y1</td>\n",
       "      <td>8</td>\n",
       "      <td>39</td>\n",
       "      <td>31</td>\n",
       "      <td>15.6667</td>\n",
       "      <td>10.22220</td>\n",
       "      <td>8</td>\n",
       "      <td>12</td>\n",
       "      <td>87</td>\n",
       "      <td>75</td>\n",
       "      <td>...</td>\n",
       "      <td>0.0</td>\n",
       "      <td>0.0</td>\n",
       "      <td>0.0</td>\n",
       "      <td>12</td>\n",
       "      <td>229</td>\n",
       "      <td>217</td>\n",
       "      <td>78.500</td>\n",
       "      <td>88.6667</td>\n",
       "      <td>12</td>\n",
       "      <td>8683</td>\n",
       "    </tr>\n",
       "    <tr>\n",
       "      <th>1</th>\n",
       "      <td>Al1Ba2Cu2F11</td>\n",
       "      <td>9</td>\n",
       "      <td>56</td>\n",
       "      <td>47</td>\n",
       "      <td>17.6250</td>\n",
       "      <td>12.43750</td>\n",
       "      <td>9</td>\n",
       "      <td>9</td>\n",
       "      <td>93</td>\n",
       "      <td>84</td>\n",
       "      <td>...</td>\n",
       "      <td>0.0</td>\n",
       "      <td>0.0</td>\n",
       "      <td>0.0</td>\n",
       "      <td>15</td>\n",
       "      <td>229</td>\n",
       "      <td>214</td>\n",
       "      <td>81.125</td>\n",
       "      <td>90.9219</td>\n",
       "      <td>15</td>\n",
       "      <td>8788</td>\n",
       "    </tr>\n",
       "    <tr>\n",
       "      <th>2</th>\n",
       "      <td>Li2O2Pd1</td>\n",
       "      <td>3</td>\n",
       "      <td>46</td>\n",
       "      <td>43</td>\n",
       "      <td>13.6000</td>\n",
       "      <td>12.96000</td>\n",
       "      <td>3</td>\n",
       "      <td>1</td>\n",
       "      <td>87</td>\n",
       "      <td>86</td>\n",
       "      <td>...</td>\n",
       "      <td>0.0</td>\n",
       "      <td>0.0</td>\n",
       "      <td>0.0</td>\n",
       "      <td>12</td>\n",
       "      <td>229</td>\n",
       "      <td>217</td>\n",
       "      <td>141.400</td>\n",
       "      <td>103.5200</td>\n",
       "      <td>12</td>\n",
       "      <td>5144</td>\n",
       "    </tr>\n",
       "    <tr>\n",
       "      <th>3</th>\n",
       "      <td>Br2Cl2Cu1Rb2</td>\n",
       "      <td>17</td>\n",
       "      <td>37</td>\n",
       "      <td>20</td>\n",
       "      <td>29.5714</td>\n",
       "      <td>7.34694</td>\n",
       "      <td>17</td>\n",
       "      <td>4</td>\n",
       "      <td>95</td>\n",
       "      <td>91</td>\n",
       "      <td>...</td>\n",
       "      <td>0.0</td>\n",
       "      <td>0.0</td>\n",
       "      <td>0.0</td>\n",
       "      <td>64</td>\n",
       "      <td>229</td>\n",
       "      <td>165</td>\n",
       "      <td>134.143</td>\n",
       "      <td>80.1633</td>\n",
       "      <td>64</td>\n",
       "      <td>9593</td>\n",
       "    </tr>\n",
       "    <tr>\n",
       "      <th>4</th>\n",
       "      <td>Al1K1O2</td>\n",
       "      <td>8</td>\n",
       "      <td>19</td>\n",
       "      <td>11</td>\n",
       "      <td>12.0000</td>\n",
       "      <td>4.00000</td>\n",
       "      <td>8</td>\n",
       "      <td>3</td>\n",
       "      <td>87</td>\n",
       "      <td>84</td>\n",
       "      <td>...</td>\n",
       "      <td>0.0</td>\n",
       "      <td>0.0</td>\n",
       "      <td>0.0</td>\n",
       "      <td>12</td>\n",
       "      <td>229</td>\n",
       "      <td>217</td>\n",
       "      <td>119.500</td>\n",
       "      <td>107.5000</td>\n",
       "      <td>12</td>\n",
       "      <td>2027</td>\n",
       "    </tr>\n",
       "  </tbody>\n",
       "</table>\n",
       "<p>5 rows × 134 columns</p>\n",
       "</div>"
      ],
      "text/plain": [
       "       Material  D1  D2  D3       D4        D5  D6  D7  D8  D9  ...  D124  \\\n",
       "0        O4V1Y1   8  39  31  15.6667  10.22220   8  12  87  75  ...   0.0   \n",
       "1  Al1Ba2Cu2F11   9  56  47  17.6250  12.43750   9   9  93  84  ...   0.0   \n",
       "2      Li2O2Pd1   3  46  43  13.6000  12.96000   3   1  87  86  ...   0.0   \n",
       "3  Br2Cl2Cu1Rb2  17  37  20  29.5714   7.34694  17   4  95  91  ...   0.0   \n",
       "4       Al1K1O2   8  19  11  12.0000   4.00000   8   3  87  84  ...   0.0   \n",
       "\n",
       "   D125  D126  D127  D128  D129     D130      D131  D132    Id  \n",
       "0   0.0   0.0    12   229   217   78.500   88.6667    12  8683  \n",
       "1   0.0   0.0    15   229   214   81.125   90.9219    15  8788  \n",
       "2   0.0   0.0    12   229   217  141.400  103.5200    12  5144  \n",
       "3   0.0   0.0    64   229   165  134.143   80.1633    64  9593  \n",
       "4   0.0   0.0    12   229   217  119.500  107.5000    12  2027  \n",
       "\n",
       "[5 rows x 134 columns]"
      ]
     },
     "execution_count": 15,
     "metadata": {},
     "output_type": "execute_result"
    }
   ],
   "source": [
    "X_train_0.head(5)"
   ]
  },
  {
   "cell_type": "code",
   "execution_count": 21,
   "id": "8ba16329-a55a-4300-a32c-0660cd14b4ca",
   "metadata": {},
   "outputs": [
    {
     "data": {
      "text/html": [
       "<div>\n",
       "<style scoped>\n",
       "    .dataframe tbody tr th:only-of-type {\n",
       "        vertical-align: middle;\n",
       "    }\n",
       "\n",
       "    .dataframe tbody tr th {\n",
       "        vertical-align: top;\n",
       "    }\n",
       "\n",
       "    .dataframe thead th {\n",
       "        text-align: right;\n",
       "    }\n",
       "</style>\n",
       "<table border=\"1\" class=\"dataframe\">\n",
       "  <thead>\n",
       "    <tr style=\"text-align: right;\">\n",
       "      <th></th>\n",
       "      <th>Egap</th>\n",
       "      <th>Id</th>\n",
       "    </tr>\n",
       "  </thead>\n",
       "  <tbody>\n",
       "    <tr>\n",
       "      <th>0</th>\n",
       "      <td>2.8121</td>\n",
       "      <td>8683</td>\n",
       "    </tr>\n",
       "    <tr>\n",
       "      <th>1</th>\n",
       "      <td>2.5128</td>\n",
       "      <td>8788</td>\n",
       "    </tr>\n",
       "    <tr>\n",
       "      <th>2</th>\n",
       "      <td>1.9510</td>\n",
       "      <td>5144</td>\n",
       "    </tr>\n",
       "    <tr>\n",
       "      <th>3</th>\n",
       "      <td>1.0099</td>\n",
       "      <td>9593</td>\n",
       "    </tr>\n",
       "    <tr>\n",
       "      <th>4</th>\n",
       "      <td>2.9344</td>\n",
       "      <td>2027</td>\n",
       "    </tr>\n",
       "  </tbody>\n",
       "</table>\n",
       "</div>"
      ],
      "text/plain": [
       "     Egap    Id\n",
       "0  2.8121  8683\n",
       "1  2.5128  8788\n",
       "2  1.9510  5144\n",
       "3  1.0099  9593\n",
       "4  2.9344  2027"
      ]
     },
     "execution_count": 21,
     "metadata": {},
     "output_type": "execute_result"
    }
   ],
   "source": [
    "y_train_0.head(5)"
   ]
  },
  {
   "cell_type": "code",
   "execution_count": 17,
   "id": "180a9891-f474-469e-bb86-a55cc04444fa",
   "metadata": {},
   "outputs": [
    {
     "name": "stdout",
     "output_type": "stream",
     "text": [
      "0\n",
      "0\n"
     ]
    }
   ],
   "source": [
    "#Check for nulls\n",
    "\n",
    "print(X_train_0.isnull().any().sum())\n",
    "print(X_test_0.isnull().any().sum())"
   ]
  },
  {
   "cell_type": "code",
   "execution_count": 28,
   "id": "dfb557b0-8bf6-4e85-8843-9776e55c6e63",
   "metadata": {},
   "outputs": [],
   "source": [
    "#Scaling the training and test data set\n",
    "\n",
    "X_train = X_train_0.iloc[:, 1:-1]\n",
    "scaler = preprocessing.StandardScaler().fit(X_train)\n",
    "X_train = pd.DataFrame(scaler.transform(X_train),columns= X_train.columns, index = X_train.index) \n",
    "\n",
    "X_test = X_test_0.iloc[:, 1:-1]\n",
    "scaler = preprocessing.StandardScaler().fit(X_test)\n",
    "X_test = pd.DataFrame(scaler.transform(X_test),columns= X_test.columns, index = X_test.index)\n",
    "\n",
    "y_train = y_train_0[['Egap']]"
   ]
  },
  {
   "cell_type": "code",
   "execution_count": 29,
   "id": "b5d7ae96-0b5a-4718-94f1-fcfccae8dce8",
   "metadata": {},
   "outputs": [],
   "source": [
    "# Split intro training and validation set\n",
    "\n",
    "X_trn, X_val, y_trn, y_val = train_test_split(X_train, y_train, test_size=0.3, random_state=186)\n"
   ]
  },
  {
   "cell_type": "code",
   "execution_count": 45,
   "id": "1645979c-6952-45f0-acec-365adc147f60",
   "metadata": {},
   "outputs": [
    {
     "name": "stdout",
     "output_type": "stream",
     "text": [
      "Mean Abs Error: 0.8251381428002628\n",
      "Mean Sqr Error: 1.1109363052339325\n",
      "Root Mean Sqr Error: 1.0540096324199\n"
     ]
    }
   ],
   "source": [
    "# Linear Regression\n",
    "\n",
    "lin_reg = linear_model.LinearRegression()\n",
    "lin_reg.fit(X_trn, y_trn)\n",
    "\n",
    "y_pred = lin_reg.predict(X_val)\n",
    "\n",
    "mae = mean_absolute_error(y_true=y_val,y_pred=y_pred)\n",
    "#squared True returns MSE value, False returns RMSE value (default value is true)\n",
    "mse = mean_squared_error(y_true=y_val,y_pred=y_pred)\n",
    "rmse = mean_squared_error(y_true=y_val,y_pred=y_pred,squared=False)\n",
    "print(\"Mean Abs Error:\",mae)\n",
    "print(\"Mean Sqr Error:\",mse)\n",
    "print(\"Root Mean Sqr Error:\",rmse)\n"
   ]
  },
  {
   "cell_type": "code",
   "execution_count": 39,
   "id": "b8f3f3fd-ac07-446a-91a4-4d502024150f",
   "metadata": {},
   "outputs": [
    {
     "name": "stdout",
     "output_type": "stream",
     "text": [
      "Mean Abs Error: 0.9083678096762943\n",
      "Mean Sqr Error: 1.3192208601717208\n",
      "Root Mean Sqr Error: 1.148573402169718\n"
     ]
    }
   ],
   "source": [
    "# LASSO\n",
    "\n",
    "lasso = linear_model.Lasso(alpha=0.1)\n",
    "lasso.fit(X_trn, y_trn)\n",
    "\n",
    "y_pred = lasso.predict(X_val)\n",
    "\n",
    "mae = mean_absolute_error(y_true=y_val,y_pred=y_pred)\n",
    "#squared True returns MSE value, False returns RMSE value (default value is true)\n",
    "mse = mean_squared_error(y_true=y_val,y_pred=y_pred)\n",
    "rmse = mean_squared_error(y_true=y_val,y_pred=y_pred,squared=False)\n",
    "print(\"Mean Abs Error:\",mae)\n",
    "print(\"Mean Sqr Error:\",mse)\n",
    "print(\"Root Mean Sqr Error:\",rmse)"
   ]
  },
  {
   "cell_type": "code",
   "execution_count": 42,
   "id": "60dcad95-936d-4afd-a7c7-3101153b4cda",
   "metadata": {},
   "outputs": [
    {
     "name": "stdout",
     "output_type": "stream",
     "text": [
      "Mean Abs Error: 0.8247627452177034\n",
      "Mean Sqr Error: 1.1120809023590692\n",
      "Root Mean Sqr Error: 1.0545524654369118\n"
     ]
    }
   ],
   "source": [
    "# Ridge Regression\n",
    "\n",
    "ridge = linear_model.Ridge(alpha=0.1)\n",
    "ridge.fit(X_trn, y_trn)\n",
    "\n",
    "y_pred = ridge.predict(X_val)\n",
    "\n",
    "mae = mean_absolute_error(y_true=y_val,y_pred=y_pred)\n",
    "#squared True returns MSE value, False returns RMSE value (default value is true)\n",
    "mse = mean_squared_error(y_true=y_val,y_pred=y_pred)\n",
    "rmse = mean_squared_error(y_true=y_val,y_pred=y_pred,squared=False)\n",
    "print(\"Mean Abs Error:\",mae)\n",
    "print(\"Mean Sqr Error:\",mse)\n",
    "print(\"Root Mean Sqr Error:\",rmse)"
   ]
  },
  {
   "cell_type": "code",
   "execution_count": 43,
   "id": "e490ba7b-6229-4603-b88d-ea5966dd78cf",
   "metadata": {},
   "outputs": [
    {
     "name": "stdout",
     "output_type": "stream",
     "text": [
      "Mean Abs Error: 0.8775289974689562\n",
      "Mean Sqr Error: 1.23410600422962\n",
      "Root Mean Sqr Error: 1.1109032380138335\n"
     ]
    }
   ],
   "source": [
    "# Elastic net\n",
    "\n",
    "elastic = linear_model.ElasticNet(alpha=0.1)\n",
    "elastic.fit(X_trn, y_trn)\n",
    "\n",
    "y_pred = elastic.predict(X_val)\n",
    "\n",
    "mae = mean_absolute_error(y_true=y_val,y_pred=y_pred)\n",
    "#squared True returns MSE value, False returns RMSE value (default value is true)\n",
    "mse = mean_squared_error(y_true=y_val,y_pred=y_pred)\n",
    "rmse = mean_squared_error(y_true=y_val,y_pred=y_pred,squared=False)\n",
    "print(\"Mean Abs Error:\",mae)\n",
    "print(\"Mean Sqr Error:\",mse)\n",
    "print(\"Root Mean Sqr Error:\",rmse)"
   ]
  },
  {
   "cell_type": "code",
   "execution_count": null,
   "id": "4f414742-e2d3-4995-b2ff-72f30882d161",
   "metadata": {},
   "outputs": [],
   "source": []
  }
 ],
 "metadata": {
  "kernelspec": {
   "display_name": "Python 3 (ipykernel)",
   "language": "python",
   "name": "python3"
  },
  "language_info": {
   "codemirror_mode": {
    "name": "ipython",
    "version": 3
   },
   "file_extension": ".py",
   "mimetype": "text/x-python",
   "name": "python",
   "nbconvert_exporter": "python",
   "pygments_lexer": "ipython3",
   "version": "3.9.12"
  }
 },
 "nbformat": 4,
 "nbformat_minor": 5
}
